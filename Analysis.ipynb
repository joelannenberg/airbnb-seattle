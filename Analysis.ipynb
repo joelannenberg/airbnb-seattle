{
 "cells": [
  {
   "cell_type": "markdown",
   "id": "584cea6d",
   "metadata": {},
   "source": [
    "### This notebook will examine data from Seattle AirBnB listings and explore the following questions:\n",
    "1. When is the most affordable time to visit Seattle?\n",
    "2. Which neighborhoods are the most highly rated, and what is the average price?\n",
    "3. What kinds of rentals are available in those neighborhoods?"
   ]
  },
  {
   "cell_type": "code",
   "execution_count": 1,
   "id": "0767e209",
   "metadata": {},
   "outputs": [],
   "source": [
    "# import libraries and load data\n",
    "import numpy as np\n",
    "import pandas as pd\n",
    "import matplotlib.pyplot as plt\n",
    "import seaborn as sns\n",
    "%matplotlib inline\n",
    "\n",
    "cal_df = pd.read_csv('./data/calendar.csv')\n",
    "list_df = pd.read_csv('./data/listings.csv')"
   ]
  },
  {
   "cell_type": "code",
   "execution_count": 2,
   "id": "ad118613",
   "metadata": {},
   "outputs": [
    {
     "data": {
      "text/html": [
       "<div>\n",
       "<style scoped>\n",
       "    .dataframe tbody tr th:only-of-type {\n",
       "        vertical-align: middle;\n",
       "    }\n",
       "\n",
       "    .dataframe tbody tr th {\n",
       "        vertical-align: top;\n",
       "    }\n",
       "\n",
       "    .dataframe thead th {\n",
       "        text-align: right;\n",
       "    }\n",
       "</style>\n",
       "<table border=\"1\" class=\"dataframe\">\n",
       "  <thead>\n",
       "    <tr style=\"text-align: right;\">\n",
       "      <th></th>\n",
       "      <th>listing_id</th>\n",
       "      <th>date</th>\n",
       "      <th>available</th>\n",
       "      <th>price</th>\n",
       "    </tr>\n",
       "  </thead>\n",
       "  <tbody>\n",
       "    <tr>\n",
       "      <th>0</th>\n",
       "      <td>241032</td>\n",
       "      <td>2016-01-04</td>\n",
       "      <td>t</td>\n",
       "      <td>$85.00</td>\n",
       "    </tr>\n",
       "    <tr>\n",
       "      <th>1</th>\n",
       "      <td>241032</td>\n",
       "      <td>2016-01-05</td>\n",
       "      <td>t</td>\n",
       "      <td>$85.00</td>\n",
       "    </tr>\n",
       "    <tr>\n",
       "      <th>2</th>\n",
       "      <td>241032</td>\n",
       "      <td>2016-01-06</td>\n",
       "      <td>f</td>\n",
       "      <td>NaN</td>\n",
       "    </tr>\n",
       "    <tr>\n",
       "      <th>3</th>\n",
       "      <td>241032</td>\n",
       "      <td>2016-01-07</td>\n",
       "      <td>f</td>\n",
       "      <td>NaN</td>\n",
       "    </tr>\n",
       "    <tr>\n",
       "      <th>4</th>\n",
       "      <td>241032</td>\n",
       "      <td>2016-01-08</td>\n",
       "      <td>f</td>\n",
       "      <td>NaN</td>\n",
       "    </tr>\n",
       "  </tbody>\n",
       "</table>\n",
       "</div>"
      ],
      "text/plain": [
       "   listing_id        date available   price\n",
       "0      241032  2016-01-04         t  $85.00\n",
       "1      241032  2016-01-05         t  $85.00\n",
       "2      241032  2016-01-06         f     NaN\n",
       "3      241032  2016-01-07         f     NaN\n",
       "4      241032  2016-01-08         f     NaN"
      ]
     },
     "execution_count": 2,
     "metadata": {},
     "output_type": "execute_result"
    }
   ],
   "source": [
    "cal_df.head()"
   ]
  },
  {
   "cell_type": "code",
   "execution_count": 3,
   "id": "e101783b",
   "metadata": {},
   "outputs": [
    {
     "data": {
      "text/plain": [
       "listing_id     int64\n",
       "date          object\n",
       "available     object\n",
       "price         object\n",
       "dtype: object"
      ]
     },
     "execution_count": 3,
     "metadata": {},
     "output_type": "execute_result"
    }
   ],
   "source": [
    "# drop columns with NaN values\n",
    "price_df = cal_df.dropna()\n",
    "price_df.dtypes"
   ]
  },
  {
   "cell_type": "code",
   "execution_count": 4,
   "id": "86cf4b61",
   "metadata": {},
   "outputs": [
    {
     "name": "stderr",
     "output_type": "stream",
     "text": [
      "<ipython-input-4-6dc3b4cb6e27>:2: SettingWithCopyWarning: \n",
      "A value is trying to be set on a copy of a slice from a DataFrame.\n",
      "Try using .loc[row_indexer,col_indexer] = value instead\n",
      "\n",
      "See the caveats in the documentation: https://pandas.pydata.org/pandas-docs/stable/user_guide/indexing.html#returning-a-view-versus-a-copy\n",
      "  price_df[\"date\"] = pd.to_datetime(price_df[\"date\"], format=\"%Y-%m-%d\")\n",
      "<ipython-input-4-6dc3b4cb6e27>:4: SettingWithCopyWarning: \n",
      "A value is trying to be set on a copy of a slice from a DataFrame.\n",
      "Try using .loc[row_indexer,col_indexer] = value instead\n",
      "\n",
      "See the caveats in the documentation: https://pandas.pydata.org/pandas-docs/stable/user_guide/indexing.html#returning-a-view-versus-a-copy\n",
      "  price_df[\"price\"] = price_df[\"price\"].replace('[\\$,]', '', regex=True).astype(float)\n"
     ]
    },
    {
     "data": {
      "text/plain": [
       "listing_id             int64\n",
       "date          datetime64[ns]\n",
       "available             object\n",
       "price                float64\n",
       "dtype: object"
      ]
     },
     "execution_count": 4,
     "metadata": {},
     "output_type": "execute_result"
    }
   ],
   "source": [
    "# convert date column from str to datetime\n",
    "price_df[\"date\"] = pd.to_datetime(price_df[\"date\"], format=\"%Y-%m-%d\")\n",
    "# convert price column from str to float\n",
    "price_df[\"price\"] = price_df[\"price\"].replace('[\\$,]', '', regex=True).astype(float)\n",
    "price_df.dtypes"
   ]
  },
  {
   "cell_type": "code",
   "execution_count": 5,
   "id": "ad441a64",
   "metadata": {},
   "outputs": [
    {
     "data": {
      "text/plain": [
       "date\n",
       "2016-01-31    121.568409\n",
       "2016-02-29    124.293927\n",
       "2016-03-31    128.644488\n",
       "2016-04-30    135.097005\n",
       "2016-11-30    135.688738\n",
       "2017-01-31    136.882590\n",
       "2016-10-31    137.031939\n",
       "2016-12-31    137.251835\n",
       "2016-05-31    139.538183\n",
       "2016-09-30    143.255949\n",
       "2016-06-30    147.473137\n",
       "2016-08-31    150.656594\n",
       "2016-07-31    152.094150\n",
       "Name: price, dtype: float64"
      ]
     },
     "execution_count": 5,
     "metadata": {},
     "output_type": "execute_result"
    }
   ],
   "source": [
    "# set date as index and groupby month\n",
    "price_df.index = price_df[\"date\"]\n",
    "price_df[\"price\"].groupby(by=pd.Grouper(freq='M')).mean().sort_values()"
   ]
  },
  {
   "cell_type": "markdown",
   "id": "a58d14d4",
   "metadata": {},
   "source": [
    "### Insight 1\n",
    "We can now answer our first question. The most affordable time to visit Seattle seems to be in the Winter months - from January through March; the least affordable time to visit Seattle seems to be in the Summer months - from June through August."
   ]
  },
  {
   "cell_type": "code",
   "execution_count": 6,
   "id": "73a235bc",
   "metadata": {},
   "outputs": [
    {
     "data": {
      "text/plain": [
       "Index(['id', 'listing_url', 'scrape_id', 'last_scraped', 'name', 'summary',\n",
       "       'space', 'description', 'experiences_offered', 'neighborhood_overview',\n",
       "       'notes', 'transit', 'thumbnail_url', 'medium_url', 'picture_url',\n",
       "       'xl_picture_url', 'host_id', 'host_url', 'host_name', 'host_since',\n",
       "       'host_location', 'host_about', 'host_response_time',\n",
       "       'host_response_rate', 'host_acceptance_rate', 'host_is_superhost',\n",
       "       'host_thumbnail_url', 'host_picture_url', 'host_neighbourhood',\n",
       "       'host_listings_count', 'host_total_listings_count',\n",
       "       'host_verifications', 'host_has_profile_pic', 'host_identity_verified',\n",
       "       'street', 'neighbourhood', 'neighbourhood_cleansed',\n",
       "       'neighbourhood_group_cleansed', 'city', 'state', 'zipcode', 'market',\n",
       "       'smart_location', 'country_code', 'country', 'latitude', 'longitude',\n",
       "       'is_location_exact', 'property_type', 'room_type', 'accommodates',\n",
       "       'bathrooms', 'bedrooms', 'beds', 'bed_type', 'amenities', 'square_feet',\n",
       "       'price', 'weekly_price', 'monthly_price', 'security_deposit',\n",
       "       'cleaning_fee', 'guests_included', 'extra_people', 'minimum_nights',\n",
       "       'maximum_nights', 'calendar_updated', 'has_availability',\n",
       "       'availability_30', 'availability_60', 'availability_90',\n",
       "       'availability_365', 'calendar_last_scraped', 'number_of_reviews',\n",
       "       'first_review', 'last_review', 'review_scores_rating',\n",
       "       'review_scores_accuracy', 'review_scores_cleanliness',\n",
       "       'review_scores_checkin', 'review_scores_communication',\n",
       "       'review_scores_location', 'review_scores_value', 'requires_license',\n",
       "       'license', 'jurisdiction_names', 'instant_bookable',\n",
       "       'cancellation_policy', 'require_guest_profile_picture',\n",
       "       'require_guest_phone_verification', 'calculated_host_listings_count',\n",
       "       'reviews_per_month'],\n",
       "      dtype='object')"
      ]
     },
     "execution_count": 6,
     "metadata": {},
     "output_type": "execute_result"
    }
   ],
   "source": [
    "list_df.columns"
   ]
  },
  {
   "cell_type": "code",
   "execution_count": 7,
   "id": "2a461f07",
   "metadata": {},
   "outputs": [
    {
     "data": {
      "text/html": [
       "<div>\n",
       "<style scoped>\n",
       "    .dataframe tbody tr th:only-of-type {\n",
       "        vertical-align: middle;\n",
       "    }\n",
       "\n",
       "    .dataframe tbody tr th {\n",
       "        vertical-align: top;\n",
       "    }\n",
       "\n",
       "    .dataframe thead th {\n",
       "        text-align: right;\n",
       "    }\n",
       "</style>\n",
       "<table border=\"1\" class=\"dataframe\">\n",
       "  <thead>\n",
       "    <tr style=\"text-align: right;\">\n",
       "      <th></th>\n",
       "      <th>price</th>\n",
       "      <th>property_type</th>\n",
       "      <th>room_type</th>\n",
       "      <th>neighbourhood_group_cleansed</th>\n",
       "      <th>review_scores_location</th>\n",
       "    </tr>\n",
       "  </thead>\n",
       "  <tbody>\n",
       "    <tr>\n",
       "      <th>0</th>\n",
       "      <td>$85.00</td>\n",
       "      <td>Apartment</td>\n",
       "      <td>Entire home/apt</td>\n",
       "      <td>Queen Anne</td>\n",
       "      <td>9.0</td>\n",
       "    </tr>\n",
       "    <tr>\n",
       "      <th>1</th>\n",
       "      <td>$150.00</td>\n",
       "      <td>Apartment</td>\n",
       "      <td>Entire home/apt</td>\n",
       "      <td>Queen Anne</td>\n",
       "      <td>10.0</td>\n",
       "    </tr>\n",
       "    <tr>\n",
       "      <th>2</th>\n",
       "      <td>$975.00</td>\n",
       "      <td>House</td>\n",
       "      <td>Entire home/apt</td>\n",
       "      <td>Queen Anne</td>\n",
       "      <td>10.0</td>\n",
       "    </tr>\n",
       "    <tr>\n",
       "      <th>4</th>\n",
       "      <td>$450.00</td>\n",
       "      <td>House</td>\n",
       "      <td>Entire home/apt</td>\n",
       "      <td>Queen Anne</td>\n",
       "      <td>9.0</td>\n",
       "    </tr>\n",
       "    <tr>\n",
       "      <th>5</th>\n",
       "      <td>$120.00</td>\n",
       "      <td>House</td>\n",
       "      <td>Private room</td>\n",
       "      <td>Queen Anne</td>\n",
       "      <td>10.0</td>\n",
       "    </tr>\n",
       "  </tbody>\n",
       "</table>\n",
       "</div>"
      ],
      "text/plain": [
       "     price property_type        room_type neighbourhood_group_cleansed  \\\n",
       "0   $85.00     Apartment  Entire home/apt                   Queen Anne   \n",
       "1  $150.00     Apartment  Entire home/apt                   Queen Anne   \n",
       "2  $975.00         House  Entire home/apt                   Queen Anne   \n",
       "4  $450.00         House  Entire home/apt                   Queen Anne   \n",
       "5  $120.00         House     Private room                   Queen Anne   \n",
       "\n",
       "   review_scores_location  \n",
       "0                     9.0  \n",
       "1                    10.0  \n",
       "2                    10.0  \n",
       "4                     9.0  \n",
       "5                    10.0  "
      ]
     },
     "execution_count": 7,
     "metadata": {},
     "output_type": "execute_result"
    }
   ],
   "source": [
    "# select columns we need for our analysis\n",
    "hood_df = list_df.loc[:,(\"price\", \"property_type\", \"room_type\",\"neighbourhood_group_cleansed\", \"review_scores_location\")].dropna()\n",
    "hood_df.head()"
   ]
  },
  {
   "cell_type": "code",
   "execution_count": 8,
   "id": "f9c45f4e",
   "metadata": {},
   "outputs": [
    {
     "data": {
      "text/plain": [
       "price                           float64\n",
       "property_type                    object\n",
       "room_type                        object\n",
       "neighbourhood_group_cleansed     object\n",
       "review_scores_location          float64\n",
       "dtype: object"
      ]
     },
     "execution_count": 8,
     "metadata": {},
     "output_type": "execute_result"
    }
   ],
   "source": [
    "# convert price column from str to float\n",
    "hood_df[\"price\"] = hood_df[\"price\"].replace('[\\$,]', '', regex=True).astype(float)\n",
    "hood_df.dtypes"
   ]
  },
  {
   "cell_type": "code",
   "execution_count": 9,
   "id": "d450e2cb",
   "metadata": {},
   "outputs": [
    {
     "data": {
      "text/html": [
       "<div>\n",
       "<style scoped>\n",
       "    .dataframe tbody tr th:only-of-type {\n",
       "        vertical-align: middle;\n",
       "    }\n",
       "\n",
       "    .dataframe tbody tr th {\n",
       "        vertical-align: top;\n",
       "    }\n",
       "\n",
       "    .dataframe thead th {\n",
       "        text-align: right;\n",
       "    }\n",
       "</style>\n",
       "<table border=\"1\" class=\"dataframe\">\n",
       "  <thead>\n",
       "    <tr style=\"text-align: right;\">\n",
       "      <th></th>\n",
       "      <th>price</th>\n",
       "      <th>review_scores_location</th>\n",
       "    </tr>\n",
       "    <tr>\n",
       "      <th>neighbourhood_group_cleansed</th>\n",
       "      <th></th>\n",
       "      <th></th>\n",
       "    </tr>\n",
       "  </thead>\n",
       "  <tbody>\n",
       "    <tr>\n",
       "      <th>Capitol Hill</th>\n",
       "      <td>129.372549</td>\n",
       "      <td>9.823529</td>\n",
       "    </tr>\n",
       "    <tr>\n",
       "      <th>Downtown</th>\n",
       "      <td>154.280702</td>\n",
       "      <td>9.769737</td>\n",
       "    </tr>\n",
       "    <tr>\n",
       "      <th>Ballard</th>\n",
       "      <td>123.647668</td>\n",
       "      <td>9.766839</td>\n",
       "    </tr>\n",
       "    <tr>\n",
       "      <th>West Seattle</th>\n",
       "      <td>128.993827</td>\n",
       "      <td>9.765432</td>\n",
       "    </tr>\n",
       "    <tr>\n",
       "      <th>Queen Anne</th>\n",
       "      <td>161.591837</td>\n",
       "      <td>9.751020</td>\n",
       "    </tr>\n",
       "  </tbody>\n",
       "</table>\n",
       "</div>"
      ],
      "text/plain": [
       "                                   price  review_scores_location\n",
       "neighbourhood_group_cleansed                                    \n",
       "Capitol Hill                  129.372549                9.823529\n",
       "Downtown                      154.280702                9.769737\n",
       "Ballard                       123.647668                9.766839\n",
       "West Seattle                  128.993827                9.765432\n",
       "Queen Anne                    161.591837                9.751020"
      ]
     },
     "execution_count": 9,
     "metadata": {},
     "output_type": "execute_result"
    }
   ],
   "source": [
    "hood_df.loc[:,(\"neighbourhood_group_cleansed\", \"price\", \"review_scores_location\")].groupby \\\n",
    "(by=[\"neighbourhood_group_cleansed\"]).mean().sort_values(by=[\"review_scores_location\"], ascending=False).head()"
   ]
  },
  {
   "cell_type": "markdown",
   "id": "1f4483bf",
   "metadata": {},
   "source": [
    "### Insight 2\n",
    "We can now answer our second question. The most highly rated neighborhoods are Capitol Hill, Downtown, Ballard, West Seattle, and Queen Anne. The average price of a listing in those neighborhoods ranges between $124-162 per night, with Ballard being the most affordable, followed by West Seattle and Capitol Hill."
   ]
  },
  {
   "cell_type": "code",
   "execution_count": 10,
   "id": "38b66c90",
   "metadata": {},
   "outputs": [
    {
     "data": {
      "text/plain": [
       "Capitol Hill    459\n",
       "Downtown        456\n",
       "Queen Anne      245\n",
       "Ballard         193\n",
       "West Seattle    162\n",
       "Name: neighbourhood_group_cleansed, dtype: int64"
      ]
     },
     "execution_count": 10,
     "metadata": {},
     "output_type": "execute_result"
    }
   ],
   "source": [
    "# select listings from the highest rated neighborhoods from the previous step\n",
    "best_neighborhoods = [\"Capitol Hill\", \"Downtown\", \"Ballard\", \"West Seattle\", \"Queen Anne\"]\n",
    "best_df = hood_df[hood_df[\"neighbourhood_group_cleansed\"].isin(best_neighborhoods)]\n",
    "best_df[\"neighbourhood_group_cleansed\"].value_counts()"
   ]
  },
  {
   "cell_type": "code",
   "execution_count": 11,
   "id": "9a4ec3a1",
   "metadata": {},
   "outputs": [
    {
     "data": {
      "text/plain": [
       "neighbourhood_group_cleansed  property_type  \n",
       "Ballard                       House              0.647668\n",
       "                              Apartment          0.269430\n",
       "                              Townhouse          0.031088\n",
       "                              Bed & Breakfast    0.010363\n",
       "                              Camper/RV          0.010363\n",
       "                              Condominium        0.010363\n",
       "                              Loft               0.010363\n",
       "                              Bungalow           0.005181\n",
       "                              Cabin              0.005181\n",
       "Capitol Hill                  Apartment          0.644880\n",
       "                              House              0.289760\n",
       "                              Condominium        0.023965\n",
       "                              Townhouse          0.015251\n",
       "                              Bed & Breakfast    0.010893\n",
       "                              Cabin              0.004357\n",
       "                              Loft               0.004357\n",
       "                              Bungalow           0.002179\n",
       "                              Other              0.002179\n",
       "                              Treehouse          0.002179\n",
       "Downtown                      Apartment          0.881579\n",
       "                              Condominium        0.072368\n",
       "                              Loft               0.019737\n",
       "                              Other              0.013158\n",
       "                              Bed & Breakfast    0.004386\n",
       "                              Dorm               0.004386\n",
       "                              House              0.004386\n",
       "Queen Anne                    Apartment          0.575510\n",
       "                              House              0.338776\n",
       "                              Condominium        0.024490\n",
       "                              Townhouse          0.020408\n",
       "                              Camper/RV          0.012245\n",
       "                              Bungalow           0.008163\n",
       "                              Loft               0.008163\n",
       "                              Bed & Breakfast    0.004082\n",
       "                              Boat               0.004082\n",
       "                              Cabin              0.004082\n",
       "West Seattle                  House              0.709877\n",
       "                              Apartment          0.203704\n",
       "                              Townhouse          0.043210\n",
       "                              Bed & Breakfast    0.012346\n",
       "                              Cabin              0.006173\n",
       "                              Camper/RV          0.006173\n",
       "                              Chalet             0.006173\n",
       "                              Condominium        0.006173\n",
       "                              Yurt               0.006173\n",
       "Name: property_type, dtype: float64"
      ]
     },
     "execution_count": 11,
     "metadata": {},
     "output_type": "execute_result"
    }
   ],
   "source": [
    "best_df.property_type.groupby(by=best_df.neighbourhood_group_cleansed).value_counts(normalize=True)"
   ]
  },
  {
   "cell_type": "markdown",
   "id": "d2092f63",
   "metadata": {},
   "source": [
    "### Insight 3\n",
    "We can now answer our third question.  \n",
    "Ballard listings are 65% Houses, 27% Apartments, with the remainder being other property types.  \n",
    "Capitol Hill listings are 65% Apartments, 29% Houses, with the remainder being other property types.  \n",
    "Downtown listings are 88% Apartments, 7% Condos, with the remainder being other property types.  \n",
    "Queene Anne listings are 58% Apartments, 34% Houses, with the remainder being other property types.  \n",
    "West Seattle listings are 71% Houses, 20% Apartments, with the remainder being other property types.  "
   ]
  },
  {
   "cell_type": "code",
   "execution_count": null,
   "id": "12e5cb5b",
   "metadata": {},
   "outputs": [],
   "source": []
  }
 ],
 "metadata": {
  "kernelspec": {
   "display_name": "Python 3",
   "language": "python",
   "name": "python3"
  },
  "language_info": {
   "codemirror_mode": {
    "name": "ipython",
    "version": 3
   },
   "file_extension": ".py",
   "mimetype": "text/x-python",
   "name": "python",
   "nbconvert_exporter": "python",
   "pygments_lexer": "ipython3",
   "version": "3.9.5"
  }
 },
 "nbformat": 4,
 "nbformat_minor": 5
}
